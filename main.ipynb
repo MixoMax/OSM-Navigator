{
 "cells": [
  {
   "attachments": {},
   "cell_type": "markdown",
   "metadata": {},
   "source": [
    "# Open Street Map Jogging route planner"
   ]
  },
  {
   "cell_type": "code",
   "execution_count": 45,
   "metadata": {},
   "outputs": [],
   "source": [
    "import requests\n",
    "import json\n",
    "from dataclasses import dataclass\n",
    "from typing import Dict, Tuple\n",
    "import xml.etree.ElementTree as ET\n",
    "import math\n",
    "import random\n",
    "import heapq"
   ]
  },
  {
   "cell_type": "code",
   "execution_count": 46,
   "metadata": {},
   "outputs": [],
   "source": [
    "# 1. get Street and Node data from OSM\n",
    "# 2. User inputs start and end points and route length\n",
    "# 3.1 select a random Point\n",
    "# 3.2-> use A* to find the path ot that random point\n",
    "# 4. repeat 3. until route length is reached"
   ]
  },
  {
   "cell_type": "code",
   "execution_count": 47,
   "metadata": {},
   "outputs": [],
   "source": [
    "#define dataclasses to store the data organized\n",
    "@dataclass\n",
    "class Node:\n",
    "    id: int\n",
    "    lat: float\n",
    "    lon: float\n",
    "    edges: list\n",
    "    \n",
    "    def __str__(self) -> str:\n",
    "        return f\"Node {self.id} ({self.lat}, {self.lon}), {len(self.edges)} edges\"\n",
    "\n",
    "@dataclass\n",
    "class Edge:\n",
    "    id: int\n",
    "    start: Node\n",
    "    end: Node\n",
    "    length: float\n",
    "    \n",
    "    def __init__(self, id, start, end, length):\n",
    "        self.id = id\n",
    "        self.start = start\n",
    "        self.end = end\n",
    "        self.length = length\n",
    "        \n",
    "        start.edges.append(self)\n",
    "        end.edges.append(self)\n",
    "    \n",
    "    def __str__(self) -> str:\n",
    "        return f\"Edge {self.id} ({self.start} -> {self.end})\""
   ]
  },
  {
   "cell_type": "code",
   "execution_count": 48,
   "metadata": {},
   "outputs": [],
   "source": [
    "# get data from OSM\n",
    "# store the data in the dataclasses\n",
    "def get_data(pos1: Tuple[float, float], pos2: Tuple[float, float] ) -> Tuple[Dict[int, Node], Dict[int, Edge]]:\n",
    "    \"\"\"Get data from OSM and store it in the dataclasses\"\"\"\n",
    "    URL = f\"https://api.openstreetmap.org/api/0.6/map?bbox={pos1[1]},{pos1[0]},{pos2[1]},{pos2[0]}\"\n",
    "    raw_data = requests.get(URL).text\n",
    "    \n",
    "    nodes = {}  # id -> Node\n",
    "    edges = {}  # id -> Edge\n",
    "    \n",
    "    # Parse nodes\n",
    "    tree = ET.fromstring(raw_data)\n",
    "    for node_elem in tree.iter(\"node\"):\n",
    "        node_id = int(node_elem.get(\"id\"))\n",
    "        node_lat = float(node_elem.get(\"lat\"))\n",
    "        node_lon = float(node_elem.get(\"lon\"))\n",
    "        node_edges = []\n",
    "        nodes[node_id] = Node(id=node_id, lat=node_lat, lon=node_lon, edges=node_edges)\n",
    "    \n",
    "    # Parse edges\n",
    "    for way_elem in tree.iter(\"way\"):\n",
    "        way_id = int(way_elem.get(\"id\"))\n",
    "        way_nodes = way_elem.findall(\"nd\")\n",
    "        way_length = 0.0\n",
    "        start_node = None\n",
    "        end_node = None\n",
    "        \n",
    "        for i in range(len(way_nodes) - 1):\n",
    "            start_node_id = int(way_nodes[i].get(\"ref\"))\n",
    "            end_node_id = int(way_nodes[i+1].get(\"ref\"))\n",
    "            \n",
    "            if start_node_id not in nodes or end_node_id not in nodes:\n",
    "                continue\n",
    "            \n",
    "            start_node = nodes[start_node_id]\n",
    "            end_node = nodes[end_node_id]\n",
    "            \n",
    "            distance = math.sqrt((start_node.lat - end_node.lat)**2 + (start_node.lon - end_node.lon)**2)\n",
    "            way_length += distance\n",
    "            \n",
    "            edge = Edge(id=way_id, start=start_node, end=end_node, length=distance)\n",
    "            edges[way_id] = edge\n",
    "            \n",
    "        if start_node and end_node:\n",
    "            start_node.edges.append(edge)\n",
    "            end_node.edges.append(edge)\n",
    "    \n",
    "    return nodes, edges"
   ]
  },
  {
   "cell_type": "code",
   "execution_count": 49,
   "metadata": {},
   "outputs": [],
   "source": [
    "def haversine(lat_1, lon_1, lat_2, lon_2) -> float:\n",
    "    #returns the distance between two points in km\n",
    "    return math.sqrt((lat_1 - lat_2)**2 + (lon_1 - lon_2)**2)"
   ]
  },
  {
   "cell_type": "code",
   "execution_count": 50,
   "metadata": {},
   "outputs": [],
   "source": [
    "nodes = {} #Dict[int, Node]\n",
    "edges = {} #Dict[int, Edge]\n",
    "nodes, edges = get_data((48.137154, 11.576124), (48.142893, 11.587868))"
   ]
  },
  {
   "cell_type": "code",
   "execution_count": null,
   "metadata": {},
   "outputs": [],
   "source": [
    "print(random.choice(list(nodes.values())))\n",
    "print(random.choice(list(nodes.values())))\n",
    "print(random.choice(list(edges.values())))"
   ]
  },
  {
   "cell_type": "code",
   "execution_count": 52,
   "metadata": {},
   "outputs": [],
   "source": [
    "def A_star(nodes: Dict[int, Node], edges: Dict[int, Edge], start_pos: Tuple[float, float], target_pos: Tuple[float, float]) -> Tuple[float, list]: #Distance, List of Node ids\n",
    "    \"\"\"A* algorithm to find the shortest path from the start node to the target node\"\"\"\n",
    "    # Find start and target node\n",
    "    target_node = sorted(nodes.values(), key=lambda node: math.sqrt((node.lat - target_pos[0])**2 + (node.lon - target_pos[1])**2))[0] #Find the closest node to the target position\n",
    "    start_node = sorted(nodes.values(), key=lambda node: math.sqrt((node.lat - start_pos[0])**2 + (node.lon - start_pos[1])**2))[0] #Find the closest node to the start position"
   ]
  },
  {
   "cell_type": "code",
   "execution_count": 54,
   "metadata": {},
   "outputs": [],
   "source": [
    "def experimental_A_star(nodes: Dict[int, Node], edges: Dict[int, Edge], start_pos: Tuple[float, float], target_pos: Tuple[float, float]) -> Tuple[float, list]:\n",
    "    \"\"\"A* algorithm to find the shortest path from the start node to the target node\"\"\"\n",
    "    # Find start and target node\n",
    "    target_node = sorted(nodes.values(), key=lambda node: math.sqrt((node.lat - target_pos[0])**2 + (node.lon - target_pos[1])**2))[0] # Find the closest node to the target position\n",
    "    start_node = sorted(nodes.values(), key=lambda node: math.sqrt((node.lat - start_pos[0])**2 + (node.lon - start_pos[1])**2))[0] # Find the closest node to the start position\n",
    "\n",
    "    # Initialize distances and previous nodes\n",
    "    distance = {node.id: math.inf for node in nodes.values()}\n",
    "    previous = {node.id: None for node in nodes.values()}\n",
    "    distance[start_node.id] = 0\n",
    "\n",
    "    # Priority queue for nodes to be visited\n",
    "    queue = [(0, start_node)]\n",
    "\n",
    "    while queue:\n",
    "        _, current_node = heapq.heappop(queue)\n",
    "\n",
    "        if current_node == target_node:\n",
    "            # Reconstruct the path\n",
    "            path = []\n",
    "            while current_node is not None:\n",
    "                path.append(current_node.id)\n",
    "                current_node = previous[current_node.id]\n",
    "            path.reverse()\n",
    "            return distance[target_node.id], path\n",
    "\n",
    "        for edge in current_node.edges:\n",
    "            neighbor = edge.start if edge.end == current_node else edge.end\n",
    "            neighbor_distance = distance[current_node.id] + edge.length\n",
    "            if neighbor_distance < distance[neighbor.id]:\n",
    "                distance[neighbor.id] = neighbor_distance\n",
    "                previous[neighbor.id] = current_node\n",
    "                heapq.heappush(queue, (neighbor_distance + haversine(neighbor.lat, neighbor.lon, target_node.lat, target_node.lon), neighbor))\n",
    "\n",
    "    # No path found\n",
    "    return math.inf, []"
   ]
  },
  {
   "cell_type": "code",
   "execution_count": 55,
   "metadata": {},
   "outputs": [],
   "source": [
    "distance, path = experimental_A_star(nodes, edges, (48.1386717, 11.5782439), (48.1401162, 11.5873112))"
   ]
  },
  {
   "cell_type": "code",
   "execution_count": null,
   "metadata": {},
   "outputs": [],
   "source": [
    "path_edges = [edges[edge_id] for edge_id in path]"
   ]
  }
 ],
 "metadata": {
  "kernelspec": {
   "display_name": "Python 3",
   "language": "python",
   "name": "python3"
  },
  "language_info": {
   "codemirror_mode": {
    "name": "ipython",
    "version": 3
   },
   "file_extension": ".py",
   "mimetype": "text/x-python",
   "name": "python",
   "nbconvert_exporter": "python",
   "pygments_lexer": "ipython3",
   "version": "3.10.11"
  },
  "orig_nbformat": 4
 },
 "nbformat": 4,
 "nbformat_minor": 2
}
