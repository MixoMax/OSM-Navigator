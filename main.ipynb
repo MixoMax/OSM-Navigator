{
 "cells": [
  {
   "attachments": {},
   "cell_type": "markdown",
   "metadata": {},
   "source": [
    "# Open Street Map Jogging route planner"
   ]
  },
  {
   "cell_type": "code",
   "execution_count": 45,
   "metadata": {},
   "outputs": [],
   "source": [
    "import requests\n",
    "import json\n",
    "from dataclasses import dataclass\n",
    "from typing import Dict, Tuple\n",
    "import xml.etree.ElementTree as ET\n",
    "import math\n",
    "import random\n",
    "import heapq"
   ]
  },
  {
   "cell_type": "code",
   "execution_count": 46,
   "metadata": {},
   "outputs": [],
   "source": [
    "# 1. get Street and Node data from OSM"
   ]
  },
  {
   "cell_type": "code",
   "execution_count": 47,
   "metadata": {},
   "outputs": [],
   "source": [
    "#define dataclasses to store the data organized\n",
    "@dataclass\n",
    "class Node:\n",
    "    id: int\n",
    "    lat: float\n",
    "    lon: float\n",
    "    edges: list\n",
    "    \n",
    "    def __str__(self) -> str:\n",
    "        return f\"Node {self.id} ({self.lat}, {self.lon}), {len(self.edges)} edges\"\n",
    "\n",
    "@dataclass\n",
    "class Edge:\n",
    "    id: int\n",
    "    start: Node\n",
    "    end: Node\n",
    "    length: float\n",
    "    \n",
    "    def __init__(self, id, start, end, length):\n",
    "        self.id = id\n",
    "        self.start = start\n",
    "        self.end = end\n",
    "        self.length = length\n",
    "        \n",
    "        start.edges.append(self)\n",
    "        end.edges.append(self)\n",
    "    \n",
    "    def __str__(self) -> str:\n",
    "        return f\"Edge {self.id} ({self.start} -> {self.end})\""
   ]
  },
  {
   "cell_type": "code",
   "execution_count": 48,
   "metadata": {},
   "outputs": [],
   "source": [
    "# get data from OSM\n",
    "# store the data in the dataclasses\n",
    "def get_data(pos1: Tuple[float, float], pos2: Tuple[float, float] ) -> Tuple[Dict[int, Node], Dict[int, Edge]]:\n",
    "    \"\"\"Get data from OSM and store it in the dataclasses\"\"\"\n",
    "    URL = f\"https://api.openstreetmap.org/api/0.6/map?bbox={pos1[1]},{pos1[0]},{pos2[1]},{pos2[0]}\"\n",
    "    raw_data = requests.get(URL).text\n",
    "    \n",
    "    nodes = {}  # id -> Node\n",
    "    edges = {}  # id -> Edge\n",
    "    \n",
    "    # Parse nodes\n",
    "    tree = ET.fromstring(raw_data)\n",
    "    for node_elem in tree.iter(\"node\"):\n",
    "        node_id = int(node_elem.get(\"id\"))\n",
    "        node_lat = float(node_elem.get(\"lat\"))\n",
    "        node_lon = float(node_elem.get(\"lon\"))\n",
    "        node_edges = []\n",
    "        nodes[node_id] = Node(id=node_id, lat=node_lat, lon=node_lon, edges=node_edges)\n",
    "    \n",
    "    # Parse edges\n",
    "    for way_elem in tree.iter(\"way\"):\n",
    "        way_id = int(way_elem.get(\"id\"))\n",
    "        way_nodes = way_elem.findall(\"nd\")\n",
    "        way_length = 0.0\n",
    "        start_node = None\n",
    "        end_node = None\n",
    "        \n",
    "        for i in range(len(way_nodes) - 1):\n",
    "            start_node_id = int(way_nodes[i].get(\"ref\"))\n",
    "            end_node_id = int(way_nodes[i+1].get(\"ref\"))\n",
    "            \n",
    "            if start_node_id not in nodes or end_node_id not in nodes:\n",
    "                continue\n",
    "            \n",
    "            start_node = nodes[start_node_id]\n",
    "            end_node = nodes[end_node_id]\n",
    "            \n",
    "            distance = math.sqrt((start_node.lat - end_node.lat)**2 + (start_node.lon - end_node.lon)**2)\n",
    "            way_length += distance\n",
    "            \n",
    "            edge = Edge(id=way_id, start=start_node, end=end_node, length=distance)\n",
    "            edges[way_id] = edge\n",
    "            \n",
    "        if start_node and end_node:\n",
    "            start_node.edges.append(edge)\n",
    "            end_node.edges.append(edge)\n",
    "    \n",
    "    return nodes, edges"
   ]
  },
  {
   "cell_type": "code",
   "execution_count": 49,
   "metadata": {},
   "outputs": [],
   "source": [
    "def haversine(lat_1, lon_1, lat_2, lon_2) -> float:\n",
    "    #returns the distance between two points in km\n",
    "    return math.sqrt((lat_1 - lat_2)**2 + (lon_1 - lon_2)**2)"
   ]
  },
  {
   "cell_type": "code",
   "execution_count": 50,
   "metadata": {},
   "outputs": [],
   "source": [
    "def A_star(nodes: Dict[int, Node], edges: Dict[int, Edge], start_pos: Tuple[float, float], target_pos: Tuple[float, float]) -> Tuple[float, list]: #Distance, List of Node ids\n",
    "    pass"
   ]
  },
  {
   "cell_type": "code",
   "execution_count": 63,
   "metadata": {},
   "outputs": [],
   "source": [
    "def find_closes_node(nodes: Dict[int, Node], pos: Tuple[float, float]) -> Node:\n",
    "    min_dist = float(\"inf\")\n",
    "    for node in nodes.values():\n",
    "        dist = haversine(pos[0], pos[1], node.lat, node.lon)\n",
    "        if dist < min_dist:\n",
    "            min_dist = dist\n",
    "            closest_node = node\n",
    "    return closest_node\n",
    "\n",
    "def Distance_Constrained_Route(nodes: Dict[int, Node], edges: Dict[int, Edge], start_pos: Tuple[float, float], length: float) -> Tuple[float, list]: #Deviation, List of Node ids used in the path\n",
    "        \n",
    "    visited = set()\n",
    "    path = []\n",
    "    total_length = 0\n",
    "    \n",
    "    start_node = find_closes_node(nodes, start_pos)\n",
    "    \n",
    "    current_node = start_node\n",
    "    path.append(current_node.id)\n",
    "    visited.add(current_node.id)\n",
    "    \n",
    "    random_way_length = 2 * length / 3 #two thirds of the length\n",
    "    while total_length < random_way_length:\n",
    "        unvisited_nodes = [node for node in current_node.edges if node.id not in visited]\n",
    "        \n",
    "        next_node = random.choice(unvisited_nodes)\n",
    "        distance = math.sqrt((current_node.lat - next_node.lat)**2 + (current_node.lon - next_node.lon)**2)\n",
    "        \n",
    "        total_length += distance\n",
    "        current_node = next_node\n",
    "        \n",
    "        visited.add(current_node.id)\n",
    "        path.append(current_node.id)\n",
    "        \n",
    "    #find the way back with the remaining length\n",
    "    while total_length < length:\n",
    "        unvisited_nodes = [node for node in current_node.edges if node.id not in visited]\n",
    "        \n",
    "        next_node = min(unvisited_nodes, key=lambda node: haversine(node.lat, node.lon, start_node.lat, start_node.lon))\n",
    "        distance = math.sqrt((current_node.lat - next_node.lat)**2 + (current_node.lon - next_node.lon)**2)\n",
    "        \n",
    "        total_length += distance\n",
    "        current_node = next_node\n",
    "        \n",
    "        visited.add(current_node.id)\n",
    "        path.append(current_node.id)\n",
    "    \n",
    "    #calculate the deviation\n",
    "    deviation = abs(total_length - length)\n",
    "    return deviation, path"
   ]
  },
  {
   "cell_type": "code",
   "execution_count": 64,
   "metadata": {},
   "outputs": [],
   "source": [
    "nodes = {} #Dict[id, Node]\n",
    "edges = {} #Dict[id, Edge]\n",
    "nodes, edges = get_data((48.137154, 11.576124), (48.142893, 11.587868))\n",
    "\n",
    "start = random.choice(list(nodes.values()))"
   ]
  },
  {
   "cell_type": "code",
   "execution_count": 65,
   "metadata": {},
   "outputs": [
    {
     "ename": "AttributeError",
     "evalue": "'Edge' object has no attribute 'lat'",
     "output_type": "error",
     "traceback": [
      "\u001b[1;31m---------------------------------------------------------------------------\u001b[0m",
      "\u001b[1;31mAttributeError\u001b[0m                            Traceback (most recent call last)",
      "Cell \u001b[1;32mIn[65], line 1\u001b[0m\n\u001b[1;32m----> 1\u001b[0m deviation, route \u001b[39m=\u001b[39m Distance_Constrained_Route(nodes, edges, (start\u001b[39m.\u001b[39;49mlat, start\u001b[39m.\u001b[39;49mlon), \u001b[39m5.0\u001b[39;49m)\n",
      "Cell \u001b[1;32mIn[63], line 27\u001b[0m, in \u001b[0;36mDistance_Constrained_Route\u001b[1;34m(nodes, edges, start_pos, length)\u001b[0m\n\u001b[0;32m     24\u001b[0m unvisited_nodes \u001b[39m=\u001b[39m [node \u001b[39mfor\u001b[39;00m node \u001b[39min\u001b[39;00m current_node\u001b[39m.\u001b[39medges \u001b[39mif\u001b[39;00m node\u001b[39m.\u001b[39mid \u001b[39mnot\u001b[39;00m \u001b[39min\u001b[39;00m visited]\n\u001b[0;32m     26\u001b[0m next_node \u001b[39m=\u001b[39m random\u001b[39m.\u001b[39mchoice(unvisited_nodes)\n\u001b[1;32m---> 27\u001b[0m distance \u001b[39m=\u001b[39m math\u001b[39m.\u001b[39msqrt((current_node\u001b[39m.\u001b[39mlat \u001b[39m-\u001b[39m next_node\u001b[39m.\u001b[39;49mlat)\u001b[39m*\u001b[39m\u001b[39m*\u001b[39m\u001b[39m2\u001b[39m \u001b[39m+\u001b[39m (current_node\u001b[39m.\u001b[39mlon \u001b[39m-\u001b[39m next_node\u001b[39m.\u001b[39mlon)\u001b[39m*\u001b[39m\u001b[39m*\u001b[39m\u001b[39m2\u001b[39m)\n\u001b[0;32m     29\u001b[0m total_length \u001b[39m+\u001b[39m\u001b[39m=\u001b[39m distance\n\u001b[0;32m     30\u001b[0m current_node \u001b[39m=\u001b[39m next_node\n",
      "\u001b[1;31mAttributeError\u001b[0m: 'Edge' object has no attribute 'lat'"
     ]
    }
   ],
   "source": [
    "deviation, route = Distance_Constrained_Route(nodes, edges, (start.lat, start.lon), 5.0)"
   ]
  }
 ],
 "metadata": {
  "kernelspec": {
   "display_name": "Python 3",
   "language": "python",
   "name": "python3"
  },
  "language_info": {
   "codemirror_mode": {
    "name": "ipython",
    "version": 3
   },
   "file_extension": ".py",
   "mimetype": "text/x-python",
   "name": "python",
   "nbconvert_exporter": "python",
   "pygments_lexer": "ipython3",
   "version": "3.10.11"
  },
  "orig_nbformat": 4
 },
 "nbformat": 4,
 "nbformat_minor": 2
}
